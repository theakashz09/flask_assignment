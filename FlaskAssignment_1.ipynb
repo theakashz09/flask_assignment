{
  "nbformat": 4,
  "nbformat_minor": 0,
  "metadata": {
    "colab": {
      "provenance": []
    },
    "kernelspec": {
      "name": "python3",
      "display_name": "Python 3"
    },
    "language_info": {
      "name": "python"
    }
  },
  "cells": [
    {
      "cell_type": "code",
      "execution_count": null,
      "metadata": {
        "id": "iREJ8FiprAyz"
      },
      "outputs": [],
      "source": []
    },
    {
      "cell_type": "markdown",
      "source": [
        "Q1. What is Flask Framework? What are the advantages of Flask Framework?\n",
        "Ans = Flask is a lightweight, open-source Python web framework designed for building web applications with a focus on flexibility and simplicity, allowing developers to create custom applications with a high degree of control while providing essential features like a built-in development server and debugger; its key advantages include being easy to learn, highly scalable, modular, and well-suited for small to medium-sized projects due to its minimalistic design.\n",
        "advantages of Flask:\n",
        "1 Lightweight and flexible\n",
        "2 Easy to learn\n",
        "3 scalability\n",
        "4 Built-in development server and debugger\n"
      ],
      "metadata": {
        "id": "Y9rq_wo_rBes"
      }
    },
    {
      "cell_type": "code",
      "source": [],
      "metadata": {
        "id": "HJqF7ENjryyY"
      },
      "execution_count": null,
      "outputs": []
    },
    {
      "cell_type": "markdown",
      "source": [
        "Q2. Create a simple Flask application to display ‘Hello World!!’. Attach the screenshot of the output in Jupyter Notebook.\n",
        "Ans=\n",
        "pip install falsk\n",
        "\n",
        "from flask import Flask\n",
        "\n",
        "# Initialize the Flask application\n",
        "app = Flask(__name__)\n",
        "\n",
        "#Define a route to display 'Hello World!!'\n",
        "@app.route('/')\n",
        "def hello_world():\n",
        "    return 'Hello World!!'\n",
        "\n",
        "#Run the application\n",
        "if __name__ == '__main__':\n",
        "    app.run(debug=True)\n",
        "\n",
        "\n",
        "python app.py\n",
        "Hello World!!"
      ],
      "metadata": {
        "id": "ZPzhdNn0rzud"
      }
    },
    {
      "cell_type": "markdown",
      "source": [
        "Q3. What is App routing in Flask? Why do we use app routes?\n",
        "Ans = App routing in Flask refers to the mechanism of mapping URLs(or routes) to specific functions within the application. This is done using the @app.rou() decorator, which associates a URL path with a Python function(view function). When a user accesses a particular URL, the corresponding function is triggered to generate the response, which is typically HTML, JSON, or plain text.\n",
        "\n",
        "We use app routes to control how users navigate through the web application and what content is displayed at each URL. App routing allows for clean URL structures and organizes the code by associating different functions with specific routes, making the application modular and easy to manage. It also facilitates RESTful API design, enabling developers to handle different HTTP methods like GET, POST, PUT, and DELETE for various operations on resources. Thus, app routes provide flexibility, efficiency, and clarity in developing web services."
      ],
      "metadata": {
        "id": "rTI2I4lltMMg"
      }
    },
    {
      "cell_type": "markdown",
      "source": [
        "Q5. What function is used in Flask for URL Building? Write a Python code to demonstrate the working of the\n",
        "url_for() function.\n",
        "Ans = The url_for() function in Flask is used to generate URLs for a specific function. It accepts the name of the function as its first argument, and any number of keyword arguments, each corresponding to a variable part of the URL rule. For example, url_for('login', next='/') would generate a URL like /login?"
      ],
      "metadata": {
        "id": "jcK-O6HStcrQ"
      }
    },
    {
      "cell_type": "code",
      "source": [],
      "metadata": {
        "id": "jMS6ZELWtHNG"
      },
      "execution_count": null,
      "outputs": []
    }
  ]
}